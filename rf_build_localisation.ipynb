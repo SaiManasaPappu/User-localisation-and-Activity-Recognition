{
 "cells": [
  {
   "cell_type": "code",
   "execution_count": 59,
   "metadata": {
    "scrolled": true
   },
   "outputs": [],
   "source": [
    "import pandas as pd \n",
    "import numpy as np\n",
    "import csv\n",
    "import sklearn.preprocessing\n",
    "from sklearn.model_selection import train_test_split\n",
    "from sklearn import preprocessing\n",
    "from sklearn.metrics import classification_report, confusion_matrix\n",
    "\n",
    "import warnings\n",
    "warnings.filterwarnings('ignore')"
   ]
  },
  {
   "cell_type": "code",
   "execution_count": 66,
   "metadata": {
    "scrolled": false
   },
   "outputs": [
    {
     "name": "stdout",
     "output_type": "stream",
     "text": [
      "-7691.109200000763\n",
      "4864754.248742422\n",
      "     WAP379  WAP029  WAP230  WAP232  WAP009  WAP227  WAP113  WAP240  WAP475  \\\n",
      "0         0       0       0       0       0       0       0       0       0   \n",
      "1         0       0       0       0       0       0       0       0       0   \n",
      "2         0       0       0       0       0       0       0       0       0   \n",
      "3         0       0       0       0       0       0       0       0       0   \n",
      "4         0      43       0       0       0       0       0       0       0   \n",
      "..      ...     ...     ...     ...     ...     ...     ...     ...     ...   \n",
      "195       0      12       0       0       0       0       0       0       0   \n",
      "196       0       0       0       0       0       0       0       0       0   \n",
      "197       0       0       0       0       0       0       0       0       0   \n",
      "198       0       0       0       0       0       0       0       0       0   \n",
      "199       0       0       0       0       0       0       0       0       0   \n",
      "\n",
      "     WAP006  ...  WAP172  WAP396  WAP084  WAP395  WAP516  WAP386  WAP229  \\\n",
      "0         0  ...       0       0       0       0       0       0       0   \n",
      "1         0  ...       0       0      17       0       0       0       0   \n",
      "2         0  ...       0       0       0       0       0       0       0   \n",
      "3         0  ...       0       0       0       0       0       0       0   \n",
      "4         0  ...       0       0       0       0       0       0       0   \n",
      "..      ...  ...     ...     ...     ...     ...     ...     ...     ...   \n",
      "195       0  ...       0       0       0       0       0       0       0   \n",
      "196       0  ...       0       0       0       0       0       0       0   \n",
      "197       0  ...       0       0       0       0       0       0       0   \n",
      "198       0  ...       0       0       0       0       0       0       0   \n",
      "199       0  ...       0       0       0       0       0       0       0   \n",
      "\n",
      "     WAP427  WAP164  WAP438  \n",
      "0         0       0       0  \n",
      "1         0       0       0  \n",
      "2         0       0       0  \n",
      "3         0       0       0  \n",
      "4         0       0       0  \n",
      "..      ...     ...     ...  \n",
      "195       0       0       0  \n",
      "196       0       0       0  \n",
      "197       0       0       0  \n",
      "198       0       0       0  \n",
      "199       0       0       0  \n",
      "\n",
      "[200 rows x 520 columns]\n",
      "      LONGITUDE    LATITUDE  FLOOR  BUILDINGID\n",
      "0    184.083201  144.662917      1           1\n",
      "1    316.132779   94.740307      4           2\n",
      "2    325.697920  101.533722      4           2\n",
      "3    334.175117   97.829254      4           2\n",
      "4     58.500697  177.399178      2           0\n",
      "..          ...         ...    ...         ...\n",
      "195   43.083790  192.627634      3           0\n",
      "196   34.345985  191.726437      3           0\n",
      "197   25.735660  189.195223      3           0\n",
      "198   18.269085  186.851132      3           0\n",
      "199   10.715800  183.048400      3           0\n",
      "\n",
      "[200 rows x 4 columns]\n"
     ]
    }
   ],
   "source": [
    "def getXY(filename):\n",
    "  X = pd.read_csv(filename)\n",
    "  if(filename=='merged.csv'):\n",
    "        X = X.iloc[:,564:]\n",
    "\n",
    "  x_drop = [\"LONGITUDE\", \"LATITUDE\", \"FLOOR\", \"BUILDINGID\", \"SPACEID\", \"RELATIVEPOSITION\", \"USERID\", \"PHONEID\", \"TIMESTAMP\"]\n",
    "  y_cols = [\"LONGITUDE\", \"LATITUDE\",\"FLOOR\",\"BUILDINGID\"]\n",
    "\n",
    "  x_cols = list(set(X.columns)-set(x_drop))\n",
    "  X_train = X[x_cols]\n",
    "  X_train.iloc[:, 0:520] = np.where(X_train.iloc[:, 0:520] <= 0, X_train.iloc[:, 0:520] + 105, X_train.iloc[:, 0:520] - 100)\n",
    "\n",
    "  Y_train = X[y_cols]\n",
    "  print(Y_train[\"LONGITUDE\"].min())\n",
    "  print(Y_train[\"LATITUDE\"].min())\n",
    "\n",
    "  Y_train[\"LONGITUDE\"] += 7700\n",
    "  Y_train[\"LATITUDE\"] -= 4864745\n",
    "\n",
    "  return X_train, Y_train\n",
    "\n",
    "#X_train, Y_train = getXY('TrainingData.csv')\n",
    "#print(X_train)\n",
    "#print(Y_train)\n",
    "\n",
    "full_input = pd.read_csv('merged.csv')\n",
    "act_input = full_input.iloc[:,1:563]\n",
    "act_true = full_input.iloc[:,563]\n",
    "\n",
    "loc_input, loc_true = getXY('merged.csv')\n",
    "print(X_test)\n",
    "print(Y_test)"
   ]
  },
  {
   "cell_type": "code",
   "execution_count": 54,
   "metadata": {},
   "outputs": [
    {
     "name": "stdout",
     "output_type": "stream",
     "text": [
      "-7695.93875492993\n",
      "4864748.01548531\n"
     ]
    }
   ],
   "source": [
    "X,Y = getXY('ValidationData.csv')\n"
   ]
  },
  {
   "cell_type": "code",
   "execution_count": 55,
   "metadata": {},
   "outputs": [
    {
     "name": "stdout",
     "output_type": "stream",
     "text": [
      "376 14\n",
      "376 14\n"
     ]
    }
   ],
   "source": [
    "def pr(x):\n",
    "    for i in range(len(x)):\n",
    "        if x[i]!=0:\n",
    "            print(i,x[i])\n",
    "pr(X.iloc[0,:])\n",
    "pr(X_test.iloc[0,:])"
   ]
  },
  {
   "cell_type": "code",
   "execution_count": 40,
   "metadata": {},
   "outputs": [
    {
     "data": {
      "text/plain": [
       "\"\\n\\nactivity_model = pickle.load(open('activity_model.sav', 'rb'))\\nlatitude_model = pickle.load(open('latitude_model.sav', 'rb'))\\nlongitude_model = pickle.load(open('longitude_model.sav', 'rb'))\\nfloor_model = pickle.load(open('floor_model.sav', 'rb'))\\nbuilding_model = pickle.load(open('building_model.sav', 'rb'))\\n\\n\""
      ]
     },
     "execution_count": 40,
     "metadata": {},
     "output_type": "execute_result"
    }
   ],
   "source": [
    "from sklearn.ensemble import RandomForestRegressor\n",
    "from sklearn.datasets import make_regression\n",
    "from sklearn.ensemble import RandomForestClassifier as rf\n",
    "import pickle\n",
    "\n",
    "\n",
    "y_cols = [\"LONGITUDE\", \"LATITUDE\",\"FLOOR\",\"BUILDINGID\"]\n",
    "longitude_model = RandomForestRegressor()\n",
    "longitude_model.fit(X_train, Y_train[y_cols[0]])\n",
    "pickle.dump(longitude_model, open('longitude_model.sav', 'wb'))\n",
    "\n",
    "latitude_model = RandomForestRegressor()\n",
    "latitude_model.fit(X_train, Y_train[y_cols[1]])\n",
    "pickle.dump(latitude_model, open('latitude_model.sav', 'wb'))\n",
    "\n",
    "floor_model = rf()\n",
    "floor_model.fit(X_train, Y_train[y_cols[2]])\n",
    "pickle.dump(floor_model, open('floor_model.sav', 'wb'))\n",
    "\n",
    "building_model = rf()\n",
    "building_model.fit(X_train, Y_train[y_cols[3]])\n",
    "pickle.dump(building_model, open('building_model.sav', 'wb'))\n",
    "\n",
    "'''\n",
    "\n",
    "'''"
   ]
  },
  {
   "cell_type": "code",
   "execution_count": 61,
   "metadata": {},
   "outputs": [],
   "source": [
    "\n",
    "activity_model = 0\n",
    "latitude_model = 0\n",
    "longitude_model = 0\n",
    "floor_model = 0\n",
    "building_model = 0\n",
    "\n",
    "\n",
    "activity_model = pickle.load(open('activity_model.sav', 'rb'))\n",
    "latitude_model = pickle.load(open('latitude_model.sav', 'rb'))\n",
    "longitude_model = pickle.load(open('longitude_model.sav', 'rb'))\n",
    "floor_model = pickle.load(open('floor_model.sav', 'rb'))\n",
    "building_model = pickle.load(open('building_model.sav', 'rb'))\n"
   ]
  },
  {
   "cell_type": "code",
   "execution_count": 83,
   "metadata": {
    "scrolled": true
   },
   "outputs": [],
   "source": [
    "def predict(user_id):\n",
    "    pred = [user_id]\n",
    "    activity_input = (np.array(act_input.iloc[user_id,:])).reshape(1,-1)\n",
    "    pred.append(activity_model.predict(activity_input))\n",
    "    \n",
    "    localisation_input = (np.array(loc_input.iloc[user_id,:])).reshape(1,-1)\n",
    "    pred.append(floor_model.predict(localisation_input))\n",
    "    pred.append(building_model.predict(localisation_input))\n",
    "    pred.append(latitude_model.predict(localisation_input))\n",
    "    pred.append(longitude_model.predict(localisation_input))\n",
    "    \n",
    "    print(\"User: {} {} on Floor: {} in Building: {} Location Coordinates : {},{}\".format(pred[0], pred[1][0],pred[2][0],pred[3][0],pred[4][0],pred[5][0])) \n",
    "    print(\"G.Truth {} on Floor: {} in Building: {} Location Coordinates : {},{}\\n\".format(act_true[user_id],loc_true.iloc[user_id,2],loc_true.iloc[user_id,3],loc_true.iloc[user_id,1],loc_true.iloc[user_id,0])) \n",
    "    # print(pred)\n",
    "    return pred\n",
    "\n",
    "    "
   ]
  },
  {
   "cell_type": "code",
   "execution_count": 84,
   "metadata": {},
   "outputs": [
    {
     "name": "stdout",
     "output_type": "stream",
     "text": [
      "User: 0 STANDING on Floor: 0 in Building: 1 Location Coordinates : 116.5110549105443,258.7414541684134\n",
      "G.Truth STANDING on Floor: 1 in Building: 1 Location Coordinates : 144.66291668452322,184.08320060014103\n",
      "\n",
      "User: 1 STANDING on Floor: 4 in Building: 2 Location Coordinates : 93.55783971042372,268.84989603394723\n",
      "G.Truth STANDING on Floor: 4 in Building: 2 Location Coordinates : 94.7403071783483,316.1327790177884\n",
      "\n",
      "User: 2 STANDING on Floor: 4 in Building: 2 Location Coordinates : 99.04900242491658,293.8436690032829\n",
      "G.Truth STANDING on Floor: 4 in Building: 2 Location Coordinates : 101.53372230008245,325.6979200593696\n",
      "\n",
      "User: 3 STANDING on Floor: 4 in Building: 2 Location Coordinates : 106.70595621164888,282.3626544030852\n",
      "G.Truth STANDING on Floor: 4 in Building: 2 Location Coordinates : 97.82925374154001,334.17511744946114\n",
      "\n",
      "User: 4 STANDING on Floor: 2 in Building: 0 Location Coordinates : 175.1487485679984,54.17249150913212\n",
      "G.Truth STANDING on Floor: 2 in Building: 0 Location Coordinates : 177.39917780738324,58.500696631892424\n",
      "\n",
      "User: 5 STANDING on Floor: 2 in Building: 2 Location Coordinates : 79.451486806795,362.5132080000639\n",
      "G.Truth STANDING on Floor: 2 in Building: 2 Location Coordinates : 80.46686277911067,361.19278958122595\n",
      "\n",
      "User: 6 STANDING on Floor: 3 in Building: 2 Location Coordinates : 92.85861399896443,332.0929945230857\n",
      "G.Truth STANDING on Floor: 3 in Building: 2 Location Coordinates : 104.20148919336498,320.64831732310813\n",
      "\n",
      "User: 7 STANDING on Floor: 3 in Building: 2 Location Coordinates : 21.28974722057581,340.2460994777456\n",
      "G.Truth STANDING on Floor: 3 in Building: 2 Location Coordinates : 13.91885996889323,359.44122286890797\n",
      "\n",
      "User: 8 STANDING on Floor: 2 in Building: 2 Location Coordinates : 34.05227396935224,338.9149699369818\n",
      "G.Truth STANDING on Floor: 2 in Building: 2 Location Coordinates : 20.847510792315006,342.46874709353597\n",
      "\n",
      "User: 9 STANDING on Floor: 0 in Building: 2 Location Coordinates : 79.4320735143125,358.71516523353756\n",
      "G.Truth STANDING on Floor: 0 in Building: 2 Location Coordinates : 85.8174702776596,354.9148300906936\n",
      "\n",
      "User: 10 STANDING on Floor: 2 in Building: 2 Location Coordinates : 18.626087369024752,351.4709405809641\n",
      "G.Truth STANDING on Floor: 2 in Building: 2 Location Coordinates : 9.24874242208898,355.8173431704972\n",
      "\n",
      "User: 11 STANDING on Floor: 1 in Building: 2 Location Coordinates : 88.18839588370174,318.78577062673867\n",
      "G.Truth STANDING on Floor: 0 in Building: 2 Location Coordinates : 99.41964526008815,327.33595852423605\n",
      "\n",
      "User: 12 STANDING on Floor: 0 in Building: 2 Location Coordinates : 96.9984588915389,329.5563768740371\n",
      "G.Truth STANDING on Floor: 0 in Building: 2 Location Coordinates : 104.18512058909982,322.9320952843709\n",
      "\n",
      "User: 13 STANDING on Floor: 2 in Building: 2 Location Coordinates : 19.46059681655839,356.14241430517285\n",
      "G.Truth STANDING on Floor: 2 in Building: 2 Location Coordinates : 21.922100002877414,368.8999000005424\n",
      "\n",
      "User: 14 STANDING on Floor: 0 in Building: 2 Location Coordinates : 93.46262144960463,338.5096139067784\n",
      "G.Truth STANDING on Floor: 0 in Building: 2 Location Coordinates : 94.97669286187738,314.1284642842202\n",
      "\n",
      "0.8666666666666666\n",
      "0.9999999999999999\n"
     ]
    }
   ],
   "source": [
    "\n",
    "loc_true = Y_test\n",
    "fa = 0\n",
    "ba = 0\n",
    "#n = len(X_test)\n",
    "n=15\n",
    "for i in range(0,n):\n",
    "    pred = predict(i)\n",
    "    if(pred[2] == loc_true.iloc[i,2]):\n",
    "        fa += 1/n\n",
    "    if(pred[3] == loc_true.iloc[i,3]):\n",
    "        ba += 1/n\n",
    "    \n",
    "print(fa)\n",
    "print(ba)"
   ]
  },
  {
   "cell_type": "code",
   "execution_count": 85,
   "metadata": {},
   "outputs": [],
   "source": [
    "def read_user_id():\n",
    "    print(\"Enter User Id b'n 0-199:\")\n",
    "    user_id = int(input())\n",
    "    while user_id<0 or user_id>=200:\n",
    "        print(\"Enter User Id b'n 0-199:\")\n",
    "        user_id = int(input())\n",
    "    return user_id\n",
    "\n"
   ]
  },
  {
   "cell_type": "code",
   "execution_count": 87,
   "metadata": {},
   "outputs": [
    {
     "name": "stdout",
     "output_type": "stream",
     "text": [
      "Enter User Id b'n 0-199:\n",
      "5\n",
      "User: 5 STANDING on Floor: 2 in Building: 2 Location Coordinates : 79.451486806795,362.5132080000639\n",
      "G.Truth STANDING on Floor: 2 in Building: 2 Location Coordinates : 80.46686277911067,361.19278958122595\n",
      "\n"
     ]
    },
    {
     "data": {
      "text/plain": [
       "[5,\n",
       " array(['STANDING'], dtype=object),\n",
       " array([2]),\n",
       " array([2]),\n",
       " array([79.45148681]),\n",
       " array([362.513208])]"
      ]
     },
     "execution_count": 87,
     "metadata": {},
     "output_type": "execute_result"
    }
   ],
   "source": [
    "predict(read_user_id())"
   ]
  },
  {
   "cell_type": "code",
   "execution_count": null,
   "metadata": {},
   "outputs": [],
   "source": []
  }
 ],
 "metadata": {
  "kernelspec": {
   "display_name": "Python 3",
   "language": "python",
   "name": "python3"
  },
  "language_info": {
   "codemirror_mode": {
    "name": "ipython",
    "version": 3
   },
   "file_extension": ".py",
   "mimetype": "text/x-python",
   "name": "python",
   "nbconvert_exporter": "python",
   "pygments_lexer": "ipython3",
   "version": "3.7.3"
  }
 },
 "nbformat": 4,
 "nbformat_minor": 5
}
