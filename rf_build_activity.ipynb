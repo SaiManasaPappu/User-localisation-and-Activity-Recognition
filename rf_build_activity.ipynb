{
 "cells": [
  {
   "cell_type": "code",
   "execution_count": 109,
   "metadata": {},
   "outputs": [],
   "source": [
    "import pandas as pd \n",
    "import numpy as np\n",
    "import matplotlib.pyplot as plt\n",
    "from sklearn.model_selection import train_test_split\n",
    "from sklearn import preprocessing\n",
    "from sklearn.metrics import classification_report, confusion_matrix\n",
    "from sklearn.preprocessing import MinMaxScaler"
   ]
  },
  {
   "cell_type": "code",
   "execution_count": 110,
   "metadata": {},
   "outputs": [],
   "source": [
    "dp = \"/home/manasa/Desktop/7_idp/activity\"\n",
    "p1 = dp + \"/train.csv\"\n",
    "p2 = dp + \"/test.csv\""
   ]
  },
  {
   "cell_type": "code",
   "execution_count": 111,
   "metadata": {},
   "outputs": [
    {
     "name": "stdout",
     "output_type": "stream",
     "text": [
      "      tBodyAcc-mean()-X  tBodyAcc-mean()-Y  tBodyAcc-mean()-Z  \\\n",
      "0              0.288585          -0.020294          -0.132905   \n",
      "1              0.278419          -0.016411          -0.123520   \n",
      "2              0.279653          -0.019467          -0.113462   \n",
      "3              0.279174          -0.026201          -0.123283   \n",
      "4              0.276629          -0.016570          -0.115362   \n",
      "...                 ...                ...                ...   \n",
      "7347           0.299665          -0.057193          -0.181233   \n",
      "7348           0.273853          -0.007749          -0.147468   \n",
      "7349           0.273387          -0.017011          -0.045022   \n",
      "7350           0.289654          -0.018843          -0.158281   \n",
      "7351           0.351503          -0.012423          -0.203867   \n",
      "\n",
      "      tBodyAcc-std()-X  tBodyAcc-std()-Y  tBodyAcc-std()-Z  tBodyAcc-mad()-X  \\\n",
      "0            -0.995279         -0.983111         -0.913526         -0.995112   \n",
      "1            -0.998245         -0.975300         -0.960322         -0.998807   \n",
      "2            -0.995380         -0.967187         -0.978944         -0.996520   \n",
      "3            -0.996091         -0.983403         -0.990675         -0.997099   \n",
      "4            -0.998139         -0.980817         -0.990482         -0.998321   \n",
      "...                ...               ...               ...               ...   \n",
      "7347         -0.195387          0.039905          0.077078         -0.282301   \n",
      "7348         -0.235309          0.004816          0.059280         -0.322552   \n",
      "7349         -0.218218         -0.103822          0.274533         -0.304515   \n",
      "7350         -0.219139         -0.111412          0.268893         -0.310487   \n",
      "7351         -0.269270         -0.087212          0.177404         -0.377404   \n",
      "\n",
      "      tBodyAcc-mad()-Y  tBodyAcc-mad()-Z  tBodyAcc-max()-X  ...  \\\n",
      "0            -0.983185         -0.923527         -0.934724  ...   \n",
      "1            -0.974914         -0.957686         -0.943068  ...   \n",
      "2            -0.963668         -0.977469         -0.938692  ...   \n",
      "3            -0.982750         -0.989302         -0.938692  ...   \n",
      "4            -0.979672         -0.990441         -0.942469  ...   \n",
      "...                ...               ...               ...  ...   \n",
      "7347          0.043616          0.060410          0.210795  ...   \n",
      "7348         -0.029456          0.080585          0.117440  ...   \n",
      "7349         -0.098913          0.332584          0.043999  ...   \n",
      "7350         -0.068200          0.319473          0.101702  ...   \n",
      "7351         -0.038678          0.229430          0.269013  ...   \n",
      "\n",
      "      fBodyBodyGyroJerkMag-skewness()  fBodyBodyGyroJerkMag-kurtosis()  \\\n",
      "0                           -0.298676                        -0.710304   \n",
      "1                           -0.595051                        -0.861499   \n",
      "2                           -0.390748                        -0.760104   \n",
      "3                           -0.117290                        -0.482845   \n",
      "4                           -0.351471                        -0.699205   \n",
      "...                               ...                              ...   \n",
      "7347                        -0.588433                        -0.880324   \n",
      "7348                        -0.390738                        -0.680744   \n",
      "7349                         0.025145                        -0.304029   \n",
      "7350                         0.063907                        -0.344314   \n",
      "7351                        -0.387052                        -0.740738   \n",
      "\n",
      "      angle(tBodyAccMean,gravity)  angle(tBodyAccJerkMean),gravityMean)  \\\n",
      "0                       -0.112754                              0.030400   \n",
      "1                        0.053477                             -0.007435   \n",
      "2                       -0.118559                              0.177899   \n",
      "3                       -0.036788                             -0.012892   \n",
      "4                        0.123320                              0.122542   \n",
      "...                           ...                                   ...   \n",
      "7347                    -0.190437                              0.829718   \n",
      "7348                     0.064907                              0.875679   \n",
      "7349                     0.052806                             -0.266724   \n",
      "7350                    -0.101360                              0.700740   \n",
      "7351                    -0.280088                             -0.007739   \n",
      "\n",
      "      angle(tBodyGyroMean,gravityMean)  angle(tBodyGyroJerkMean,gravityMean)  \\\n",
      "0                            -0.464761                             -0.018446   \n",
      "1                            -0.732626                              0.703511   \n",
      "2                             0.100699                              0.808529   \n",
      "3                             0.640011                             -0.485366   \n",
      "4                             0.693578                             -0.615971   \n",
      "...                                ...                                   ...   \n",
      "7347                          0.206972                             -0.425619   \n",
      "7348                         -0.879033                              0.400219   \n",
      "7349                          0.864404                              0.701169   \n",
      "7350                          0.936674                             -0.589479   \n",
      "7351                         -0.056088                             -0.616956   \n",
      "\n",
      "      angle(X,gravityMean)  angle(Y,gravityMean)  angle(Z,gravityMean)  \\\n",
      "0                -0.841247              0.179941             -0.058627   \n",
      "1                -0.844788              0.180289             -0.054317   \n",
      "2                -0.848933              0.180637             -0.049118   \n",
      "3                -0.848649              0.181935             -0.047663   \n",
      "4                -0.847865              0.185151             -0.043892   \n",
      "...                    ...                   ...                   ...   \n",
      "7347             -0.791883              0.238604              0.049819   \n",
      "7348             -0.771840              0.252676              0.050053   \n",
      "7349             -0.779133              0.249145              0.040811   \n",
      "7350             -0.785181              0.246432              0.025339   \n",
      "7351             -0.783267              0.246809              0.036695   \n",
      "\n",
      "      subject  \n",
      "0           1  \n",
      "1           1  \n",
      "2           1  \n",
      "3           1  \n",
      "4           1  \n",
      "...       ...  \n",
      "7347       30  \n",
      "7348       30  \n",
      "7349       30  \n",
      "7350       30  \n",
      "7351       30  \n",
      "\n",
      "[7352 rows x 562 columns]\n"
     ]
    }
   ],
   "source": [
    "def preprocess(filename):\n",
    "    data = pd.read_csv(filename)\n",
    "    \n",
    "    Y_train = data['Activity'].copy() #Labels\n",
    "    '''\n",
    "    le= preprocessing.LabelEncoder()\n",
    "    le.fit(Y_train)\n",
    "    Y_train = le.transform(Y_train)\n",
    "    '''\n",
    "    X_train = data.drop('Activity',axis=1).copy() #Data\n",
    "    return X_train, Y_train\n",
    "\n",
    "X_train, Y_train = preprocess(p1)\n",
    "print(X_train)\n",
    "X_test, Y_test = preprocess(p2)    "
   ]
  },
  {
   "cell_type": "code",
   "execution_count": 103,
   "metadata": {},
   "outputs": [
    {
     "name": "stdout",
     "output_type": "stream",
     "text": [
      "(7352, 562)\n",
      "(7352,)\n",
      "(2947, 562)\n",
      "(2947,)\n"
     ]
    }
   ],
   "source": [
    "print(X_train.shape)\n",
    "print(Y_train.shape)\n",
    "print(X_test.shape)\n",
    "print(Y_test.shape)"
   ]
  },
  {
   "cell_type": "code",
   "execution_count": 104,
   "metadata": {},
   "outputs": [],
   "source": [
    "from sklearn.ensemble import RandomForestRegressor\n",
    "from sklearn.datasets import make_regression\n",
    "from sklearn.ensemble import RandomForestClassifier \n",
    "import pickle\n",
    "\n",
    "activity_model = RandomForestClassifier()\n",
    "activity_model.fit(X_train, Y_train)\n",
    "pickle.dump(activity_model, open('activity_model.sav', 'wb'))"
   ]
  },
  {
   "cell_type": "code",
   "execution_count": 105,
   "metadata": {},
   "outputs": [
    {
     "name": "stdout",
     "output_type": "stream",
     "text": [
      "['STANDING' 'STANDING' 'STANDING' ... 'WALKING_UPSTAIRS'\n",
      " 'WALKING_UPSTAIRS' 'WALKING']\n",
      "0               STANDING\n",
      "1               STANDING\n",
      "2               STANDING\n",
      "3               STANDING\n",
      "4               STANDING\n",
      "              ...       \n",
      "2942    WALKING_UPSTAIRS\n",
      "2943    WALKING_UPSTAIRS\n",
      "2944    WALKING_UPSTAIRS\n",
      "2945    WALKING_UPSTAIRS\n",
      "2946    WALKING_UPSTAIRS\n",
      "Name: Activity, Length: 2947, dtype: object\n",
      "0.9229725144214456\n"
     ]
    }
   ],
   "source": [
    "y_predn = activity_model.predict(X_test)\n",
    "print(y_predn)\n",
    "print(Y_test)\n",
    "print(np.sum(y_predn == Y_test)/len(y_predn))"
   ]
  },
  {
   "cell_type": "code",
   "execution_count": 106,
   "metadata": {},
   "outputs": [
    {
     "data": {
      "text/plain": [
       "'\\nnp.reshape(y_predn,(len(y_predn),1))\\nnp.reshape(Y_test,(len(Y_test),1))\\nprint(y_predn)\\nprint(Y_test)\\nprint(np.sum(y_predn != Y_test))\\n'"
      ]
     },
     "execution_count": 106,
     "metadata": {},
     "output_type": "execute_result"
    }
   ],
   "source": [
    "'''\n",
    "np.reshape(y_predn,(len(y_predn),1))\n",
    "np.reshape(Y_test,(len(Y_test),1))\n",
    "print(y_predn)\n",
    "print(Y_test)\n",
    "print(np.sum(y_predn != Y_test))\n",
    "'''"
   ]
  },
  {
   "cell_type": "code",
   "execution_count": 107,
   "metadata": {},
   "outputs": [],
   "source": [
    "# print(confusion_matrix(Y_test,y_predn))"
   ]
  },
  {
   "cell_type": "code",
   "execution_count": 108,
   "metadata": {},
   "outputs": [],
   "source": [
    "# print(classification_report(Y_test, y_predn))"
   ]
  }
 ],
 "metadata": {
  "kernelspec": {
   "display_name": "Python 3",
   "language": "python",
   "name": "python3"
  },
  "language_info": {
   "codemirror_mode": {
    "name": "ipython",
    "version": 3
   },
   "file_extension": ".py",
   "mimetype": "text/x-python",
   "name": "python",
   "nbconvert_exporter": "python",
   "pygments_lexer": "ipython3",
   "version": "3.6.9"
  }
 },
 "nbformat": 4,
 "nbformat_minor": 4
}
