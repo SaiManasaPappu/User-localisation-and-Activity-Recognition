{
 "cells": [
  {
   "cell_type": "code",
   "execution_count": 7,
   "metadata": {},
   "outputs": [
    {
     "name": "stderr",
     "output_type": "stream",
     "text": [
      "/home/manasa/snap/jupyter/common/lib/python3.7/site-packages/joblib/_multiprocessing_helpers.py:45: UserWarning: [Errno 13] Permission denied.  joblib will operate in serial mode\n",
      "  warnings.warn('%s.  joblib will operate in serial mode' % (e,))\n"
     ]
    }
   ],
   "source": [
    "import pandas as pd \n",
    "import numpy as np\n",
    "import csv\n",
    "from sklearn.model_selection import train_test_split\n",
    "\n",
    "from sklearn import preprocessing\n",
    "from sklearn.metrics import classification_report, confusion_matrix\n",
    "\n",
    "import warnings\n",
    "\n",
    "warnings.filterwarnings('ignore')"
   ]
  },
  {
   "cell_type": "code",
   "execution_count": 9,
   "metadata": {},
   "outputs": [
    {
     "name": "stdout",
     "output_type": "stream",
     "text": [
      "(2947, 563)\n",
      "      tBodyAcc-mean()-X  tBodyAcc-mean()-Y  tBodyAcc-mean()-Z  \\\n",
      "0              0.257178          -0.023285          -0.014654   \n",
      "1              0.286027          -0.013163          -0.119083   \n",
      "2              0.275485          -0.026050          -0.118152   \n",
      "3              0.270298          -0.032614          -0.117520   \n",
      "4              0.274833          -0.027848          -0.129527   \n",
      "...                 ...                ...                ...   \n",
      "2942           0.310155          -0.053391          -0.099109   \n",
      "2943           0.363385          -0.039214          -0.105915   \n",
      "2944           0.349966           0.030077          -0.115788   \n",
      "2945           0.237594           0.018467          -0.096499   \n",
      "2946           0.153627          -0.018437          -0.137018   \n",
      "\n",
      "      tBodyAcc-std()-X  tBodyAcc-std()-Y  tBodyAcc-std()-Z  tBodyAcc-mad()-X  \\\n",
      "0            -0.938404         -0.920091         -0.667683         -0.952501   \n",
      "1            -0.975415         -0.967458         -0.944958         -0.986799   \n",
      "2            -0.993819         -0.969926         -0.962748         -0.994403   \n",
      "3            -0.994743         -0.973268         -0.967091         -0.995274   \n",
      "4            -0.993852         -0.967445         -0.978295         -0.994111   \n",
      "...                ...               ...               ...               ...   \n",
      "2942         -0.287866         -0.140589         -0.215088         -0.356083   \n",
      "2943         -0.305388          0.028148         -0.196373         -0.373540   \n",
      "2944         -0.329638         -0.042143         -0.250181         -0.388017   \n",
      "2945         -0.323114         -0.229775         -0.207574         -0.392380   \n",
      "2946         -0.330046         -0.195253         -0.164339         -0.430974   \n",
      "\n",
      "      tBodyAcc-mad()-Y  tBodyAcc-mad()-Z  tBodyAcc-max()-X  ...  \\\n",
      "0            -0.925249         -0.674302         -0.894088  ...   \n",
      "1            -0.968401         -0.945823         -0.894088  ...   \n",
      "2            -0.970735         -0.963483         -0.939260  ...   \n",
      "3            -0.974471         -0.968897         -0.938610  ...   \n",
      "4            -0.965953         -0.977346         -0.938610  ...   \n",
      "...                ...               ...               ...  ...   \n",
      "2942         -0.148775         -0.232057          0.185361  ...   \n",
      "2943         -0.030036         -0.270237          0.185361  ...   \n",
      "2944         -0.133257         -0.347029          0.007471  ...   \n",
      "2945         -0.279610         -0.289477          0.007471  ...   \n",
      "2946         -0.218295         -0.229933         -0.111527  ...   \n",
      "\n",
      "      fBodyBodyGyroJerkMag-kurtosis()  angle(tBodyAccMean,gravity)  \\\n",
      "0                           -0.705974                     0.006462   \n",
      "1                           -0.594944                    -0.083495   \n",
      "2                           -0.640736                    -0.034956   \n",
      "3                           -0.736124                    -0.017067   \n",
      "4                           -0.846595                    -0.002223   \n",
      "...                               ...                          ...   \n",
      "2942                        -0.750809                    -0.337422   \n",
      "2943                        -0.700274                    -0.736701   \n",
      "2944                        -0.467179                    -0.181560   \n",
      "2945                        -0.617737                     0.444558   \n",
      "2946                        -0.436940                     0.598808   \n",
      "\n",
      "      angle(tBodyAccJerkMean),gravityMean)  angle(tBodyGyroMean,gravityMean)  \\\n",
      "0                                 0.162920                         -0.825886   \n",
      "1                                 0.017500                         -0.434375   \n",
      "2                                 0.202302                          0.064103   \n",
      "3                                 0.154438                          0.340134   \n",
      "4                                -0.040046                          0.736715   \n",
      "...                                    ...                               ...   \n",
      "2942                              0.346295                          0.884904   \n",
      "2943                             -0.372889                         -0.657421   \n",
      "2944                              0.088574                          0.696663   \n",
      "2945                             -0.819188                          0.929294   \n",
      "2946                             -0.287951                          0.876030   \n",
      "\n",
      "      angle(tBodyGyroJerkMean,gravityMean)  angle(X,gravityMean)  \\\n",
      "0                                 0.271151             -0.720009   \n",
      "1                                 0.920593             -0.698091   \n",
      "2                                 0.145068             -0.702771   \n",
      "3                                 0.296407             -0.698954   \n",
      "4                                -0.118545             -0.692245   \n",
      "...                                    ...                   ...   \n",
      "2942                             -0.698885             -0.651732   \n",
      "2943                              0.322549             -0.655181   \n",
      "2944                              0.363139             -0.655357   \n",
      "2945                             -0.008398             -0.659719   \n",
      "2946                             -0.024965             -0.660080   \n",
      "\n",
      "      angle(Y,gravityMean)  angle(Z,gravityMean)  subject          Activity  \n",
      "0                 0.276801             -0.057978        2          STANDING  \n",
      "1                 0.281343             -0.083898        2          STANDING  \n",
      "2                 0.280083             -0.079346        2          STANDING  \n",
      "3                 0.284114             -0.077108        2          STANDING  \n",
      "4                 0.290722             -0.073857        2          STANDING  \n",
      "...                    ...                   ...      ...               ...  \n",
      "2942              0.274627              0.184784       24  WALKING_UPSTAIRS  \n",
      "2943              0.273578              0.182412       24  WALKING_UPSTAIRS  \n",
      "2944              0.274479              0.181184       24  WALKING_UPSTAIRS  \n",
      "2945              0.264782              0.187563       24  WALKING_UPSTAIRS  \n",
      "2946              0.263936              0.188103       24  WALKING_UPSTAIRS  \n",
      "\n",
      "[2947 rows x 563 columns]\n"
     ]
    }
   ],
   "source": [
    "activity_test = pd.read_csv('test.csv')\n",
    "print(activity_test.shape)\n",
    "print(activity_test)"
   ]
  },
  {
   "cell_type": "code",
   "execution_count": 10,
   "metadata": {},
   "outputs": [
    {
     "name": "stdout",
     "output_type": "stream",
     "text": [
      "(1111, 529)\n",
      "      WAP001  WAP002  WAP003  WAP004  WAP005  WAP006  WAP007  WAP008  WAP009  \\\n",
      "0        100     100     100     100     100     100     100     100     100   \n",
      "1        100     100     100     100     100     100     100     100     100   \n",
      "2        100     100     100     100     100     100     100     100     100   \n",
      "3        100     100     100     100     100     100     100     100     100   \n",
      "4        100     100     100     100     100     100     100     100     100   \n",
      "...      ...     ...     ...     ...     ...     ...     ...     ...     ...   \n",
      "1106     100     100     100     100     100     100     100     100     100   \n",
      "1107     100     100     100     100     100     100     100     100     100   \n",
      "1108     100     100     100     100     100     100     100     100     100   \n",
      "1109     100     100     100     100     100     100     100     100     100   \n",
      "1110     100     100     100     100     100     100     100     100     100   \n",
      "\n",
      "      WAP010  ...  WAP520    LONGITUDE      LATITUDE  FLOOR  BUILDINGID  \\\n",
      "0        100  ...     100 -7515.916799  4.864890e+06      1           1   \n",
      "1        100  ...     100 -7383.867221  4.864840e+06      4           2   \n",
      "2        100  ...     100 -7374.302080  4.864847e+06      4           2   \n",
      "3        100  ...     100 -7365.824883  4.864843e+06      4           2   \n",
      "4        100  ...     100 -7641.499303  4.864922e+06      2           0   \n",
      "...      ...  ...     ...          ...           ...    ...         ...   \n",
      "1106     100  ...     100 -7317.344231  4.864796e+06      3           2   \n",
      "1107     100  ...     100 -7313.731120  4.864792e+06      3           2   \n",
      "1108     100  ...     100 -7637.535798  4.864903e+06      0           0   \n",
      "1109     100  ...     100 -7636.654005  4.864905e+06      0           0   \n",
      "1110     100  ...     100 -7637.944120  4.864904e+06      0           0   \n",
      "\n",
      "      SPACEID  RELATIVEPOSITION  USERID  PHONEID   TIMESTAMP  \n",
      "0           0                 0       0        0  1380872703  \n",
      "1           0                 0       0       13  1381155054  \n",
      "2           0                 0       0       13  1381155095  \n",
      "3           0                 0       0       13  1381155138  \n",
      "4           0                 0       0        2  1380877774  \n",
      "...       ...               ...     ...      ...         ...  \n",
      "1106        0                 0       0       13  1381156711  \n",
      "1107        0                 0       0       13  1381156730  \n",
      "1108        0                 0       0       13  1381247781  \n",
      "1109        0                 0       0       13  1381247807  \n",
      "1110        0                 0       0       13  1381247836  \n",
      "\n",
      "[1111 rows x 529 columns]\n"
     ]
    }
   ],
   "source": [
    "loc_test = pd.read_csv('ValidationData.csv')\n",
    "loc_test.iloc[:, 0:520] = np.where(loc_test.iloc[:, 0:520] <= 0, loc_test.iloc[:, 0:520] + 105, loc_test.iloc[:, 0:520] - 100)\n",
    "loc_test[\"LONGITUDE\"] += 7700\n",
    "loc_test[\"LATITUDE\"] -= 4864745\n",
    "print(loc_test.shape)\n",
    "print(loc_test)"
   ]
  },
  {
   "cell_type": "code",
   "execution_count": 16,
   "metadata": {},
   "outputs": [
    {
     "data": {
      "text/plain": [
       "(200, 1092)"
      ]
     },
     "execution_count": 16,
     "metadata": {},
     "output_type": "execute_result"
    }
   ],
   "source": [
    "n = min(loc_tes.shape[0],act_test.shape[0])\n",
    "merged = pd.concat([activity_test.iloc[:n,:], loc_test.iloc[:n,:]], axis=1)\n",
    "merged.shape"
   ]
  },
  {
   "cell_type": "code",
   "execution_count": 17,
   "metadata": {},
   "outputs": [
    {
     "data": {
      "text/plain": [
       "pandas.core.frame.DataFrame"
      ]
     },
     "execution_count": 17,
     "metadata": {},
     "output_type": "execute_result"
    }
   ],
   "source": [
    "type(merged)"
   ]
  },
  {
   "cell_type": "code",
   "execution_count": 18,
   "metadata": {},
   "outputs": [],
   "source": [
    "merged.to_csv(\"merged.csv\")"
   ]
  },
  {
   "cell_type": "code",
   "execution_count": 14,
   "metadata": {},
   "outputs": [
    {
     "name": "stdout",
     "output_type": "stream",
     "text": [
      "     Unnamed: 0  tBodyAcc-mean()-X  tBodyAcc-mean()-Y  tBodyAcc-mean()-Z  \\\n",
      "0             0           0.257178          -0.023285          -0.014654   \n",
      "1             1           0.286027          -0.013163          -0.119083   \n",
      "2             2           0.275485          -0.026050          -0.118152   \n",
      "3             3           0.270298          -0.032614          -0.117520   \n",
      "4             4           0.274833          -0.027848          -0.129527   \n",
      "..          ...                ...                ...                ...   \n",
      "195         195           0.266330          -0.014019          -0.078509   \n",
      "196         196           0.269025          -0.013123          -0.089644   \n",
      "197         197           0.278047          -0.013597          -0.110001   \n",
      "198         198           0.275424          -0.004940          -0.096704   \n",
      "199         199           0.279339          -0.007344          -0.105146   \n",
      "\n",
      "     tBodyAcc-std()-X  tBodyAcc-std()-Y  tBodyAcc-std()-Z  tBodyAcc-mad()-X  \\\n",
      "0           -0.938404         -0.920091         -0.667683         -0.952501   \n",
      "1           -0.975415         -0.967458         -0.944958         -0.986799   \n",
      "2           -0.993819         -0.969926         -0.962748         -0.994403   \n",
      "3           -0.994743         -0.973268         -0.967091         -0.995274   \n",
      "4           -0.993852         -0.967445         -0.978295         -0.994111   \n",
      "..                ...               ...               ...               ...   \n",
      "195         -0.990183         -0.978412         -0.970998         -0.991560   \n",
      "196         -0.993354         -0.981515         -0.972741         -0.993958   \n",
      "197         -0.994844         -0.982998         -0.980108         -0.994910   \n",
      "198         -0.995070         -0.978252         -0.971395         -0.995099   \n",
      "199         -0.995215         -0.972738         -0.965728         -0.995590   \n",
      "\n",
      "     tBodyAcc-mad()-Y  tBodyAcc-mad()-Z  ...  WAP520    LONGITUDE  \\\n",
      "0           -0.925249         -0.674302  ...     100 -7515.916799   \n",
      "1           -0.968401         -0.945823  ...     100 -7383.867221   \n",
      "2           -0.970735         -0.963483  ...     100 -7374.302080   \n",
      "3           -0.974471         -0.968897  ...     100 -7365.824883   \n",
      "4           -0.965953         -0.977346  ...     100 -7641.499303   \n",
      "..                ...               ...  ...     ...          ...   \n",
      "195         -0.978164         -0.975041  ...     100 -7656.916210   \n",
      "196         -0.980659         -0.969595  ...     100 -7665.654015   \n",
      "197         -0.982397         -0.979376  ...     100 -7674.264340   \n",
      "198         -0.977859         -0.970004  ...     100 -7681.730915   \n",
      "199         -0.973125         -0.960439  ...     100 -7689.284200   \n",
      "\n",
      "         LATITUDE  FLOOR  BUILDINGID  SPACEID  RELATIVEPOSITION  USERID  \\\n",
      "0    4.864890e+06      1           1        0                 0       0   \n",
      "1    4.864840e+06      4           2        0                 0       0   \n",
      "2    4.864847e+06      4           2        0                 0       0   \n",
      "3    4.864843e+06      4           2        0                 0       0   \n",
      "4    4.864922e+06      2           0        0                 0       0   \n",
      "..            ...    ...         ...      ...               ...     ...   \n",
      "195  4.864938e+06      3           0        0                 0       0   \n",
      "196  4.864937e+06      3           0        0                 0       0   \n",
      "197  4.864934e+06      3           0        0                 0       0   \n",
      "198  4.864932e+06      3           0        0                 0       0   \n",
      "199  4.864928e+06      3           0        0                 0       0   \n",
      "\n",
      "     PHONEID   TIMESTAMP  \n",
      "0          0  1380872703  \n",
      "1         13  1381155054  \n",
      "2         13  1381155095  \n",
      "3         13  1381155138  \n",
      "4          2  1380877774  \n",
      "..       ...         ...  \n",
      "195       13  1379667439  \n",
      "196       13  1379667455  \n",
      "197       13  1379667487  \n",
      "198       13  1379667515  \n",
      "199       13  1379667534  \n",
      "\n",
      "[200 rows x 1093 columns]\n"
     ]
    }
   ],
   "source": [
    "m = pd.read_csv(\"merged.csv\")\n",
    "print(m)"
   ]
  },
  {
   "cell_type": "code",
   "execution_count": null,
   "metadata": {},
   "outputs": [],
   "source": []
  }
 ],
 "metadata": {
  "kernelspec": {
   "display_name": "Python 3",
   "language": "python",
   "name": "python3"
  },
  "language_info": {
   "codemirror_mode": {
    "name": "ipython",
    "version": 3
   },
   "file_extension": ".py",
   "mimetype": "text/x-python",
   "name": "python",
   "nbconvert_exporter": "python",
   "pygments_lexer": "ipython3",
   "version": "3.7.3"
  }
 },
 "nbformat": 4,
 "nbformat_minor": 4
}
