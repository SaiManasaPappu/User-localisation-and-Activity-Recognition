{
 "cells": [
  {
   "cell_type": "code",
   "execution_count": 72,
   "metadata": {},
   "outputs": [],
   "source": [
    "import numpy as np\n",
    "import pandas as pd\n",
    "from sklearn import metrics as sm\n",
    "from sklearn.model_selection import train_test_split\n",
    "\n",
    "import warnings\n",
    "warnings.filterwarnings('ignore')"
   ]
  },
  {
   "cell_type": "code",
   "execution_count": 73,
   "metadata": {},
   "outputs": [
    {
     "name": "stdout",
     "output_type": "stream",
     "text": [
      "(7352, 563)\n",
      "(2947, 563)\n"
     ]
    }
   ],
   "source": [
    "training_data = pd.read_csv('train.csv')\n",
    "test_data = pd.read_csv('test.csv')\n",
    "\n",
    "print(training_data.shape)\n",
    "print(test_data.shape)"
   ]
  },
  {
   "cell_type": "code",
   "execution_count": null,
   "metadata": {},
   "outputs": [],
   "source": [
    "combined = pd.concat([training_data, test_data], sort = False)\n",
    "X = combined.iloc[:,:-2]\n",
    "y = combined.iloc[:,-1]\n",
    "X_train_act, X_test_act, y_train_act, y_test_act = train_test_split( X, y, test_size=0.2, random_state=42)"
   ]
  },
  {
   "cell_type": "code",
   "execution_count": 5,
   "metadata": {},
   "outputs": [
    {
     "name": "stdout",
     "output_type": "stream",
     "text": [
      "Training Data shape: (8239, 561)\n",
      "Test Data shape: (2060, 561)\n",
      "Training Data shape: (8239,)\n",
      "Test Data shape: (2060,)\n"
     ]
    }
   ],
   "source": [
    "print(\"Training Data shape:\", format(X_train_act.shape))\n",
    "print(\"Test Data shape:\",format(X_test_act.shape))\n",
    "print(\"Training Data shape:\", format(y_train_act.shape))\n",
    "print(\"Test Data shape:\",format(y_test_act.shape))"
   ]
  },
  {
   "cell_type": "code",
   "execution_count": 6,
   "metadata": {},
   "outputs": [],
   "source": [
    "from sklearn.ensemble import RandomForestRegressor\n",
    "from sklearn.datasets import make_regression\n",
    "from sklearn.ensemble import RandomForestClassifier \n",
    "import pickle\n",
    "\n",
    "activity_model = RandomForestClassifier()\n",
    "activity_model.fit(X_train_act, y_train_act)\n",
    "pickle.dump(activity_model, open('activity.sav', 'wb'))"
   ]
  },
  {
   "cell_type": "code",
   "execution_count": 7,
   "metadata": {
    "scrolled": true
   },
   "outputs": [],
   "source": [
    "y_hat = activity_model.predict(X_test_act)"
   ]
  },
  {
   "cell_type": "code",
   "execution_count": 8,
   "metadata": {},
   "outputs": [
    {
     "name": "stdout",
     "output_type": "stream",
     "text": [
      "[[406   0   0   0   0   0]\n",
      " [  0 361  16   0   0   0]\n",
      " [  0  14 340   0   0   0]\n",
      " [  0   0   0 366   2   1]\n",
      " [  0   0   0   3 275   6]\n",
      " [  0   0   0   1   4 265]]\n",
      "                    precision    recall  f1-score   support\n",
      "\n",
      "            LAYING       1.00      1.00      1.00       406\n",
      "           SITTING       0.96      0.96      0.96       377\n",
      "          STANDING       0.96      0.96      0.96       354\n",
      "           WALKING       0.99      0.99      0.99       369\n",
      "WALKING_DOWNSTAIRS       0.98      0.97      0.97       284\n",
      "  WALKING_UPSTAIRS       0.97      0.98      0.98       270\n",
      "\n",
      "          accuracy                           0.98      2060\n",
      "         macro avg       0.98      0.98      0.98      2060\n",
      "      weighted avg       0.98      0.98      0.98      2060\n",
      "\n"
     ]
    }
   ],
   "source": [
    "print(sm.confusion_matrix(y_test_act,y_hat))\n",
    "print(sm.classification_report(y_test_act, y_hat))"
   ]
  },
  {
   "cell_type": "code",
   "execution_count": 9,
   "metadata": {},
   "outputs": [],
   "source": [
    "### ================= LOCALISATION ================= ###"
   ]
  },
  {
   "cell_type": "code",
   "execution_count": 10,
   "metadata": {},
   "outputs": [],
   "source": [
    "from sklearn.metrics import classification_report, confusion_matrix"
   ]
  },
  {
   "cell_type": "code",
   "execution_count": 75,
   "metadata": {},
   "outputs": [],
   "source": [
    "def getXY(X):\n",
    "  \n",
    "  x_drop = [\"LONGITUDE\", \"LATITUDE\", \"FLOOR\", \"BUILDINGID\", \"SPACEID\", \"RELATIVEPOSITION\", \"USERID\", \"PHONEID\", \"TIMESTAMP\"]\n",
    "  y_cols = [\"LONGITUDE\", \"LATITUDE\",\"FLOOR\",\"BUILDINGID\",\"SPACEID\",\"RELATIVEPOSITION\"]\n",
    "\n",
    "  x_cols = list(set(X.columns)-set(x_drop))\n",
    "  X_train = X[x_cols]\n",
    "  X_train.iloc[:, 0:520] = np.where(X_train.iloc[:, 0:520] <= 0, X_train.iloc[:, 0:520] + 105, X_train.iloc[:, 0:520] - 100)\n",
    "\n",
    "  Y_train = X[y_cols]\n",
    "  print(Y_train[\"LONGITUDE\"].min())\n",
    "  print(Y_train[\"LATITUDE\"].min())\n",
    "\n",
    "  Y_train[\"LONGITUDE\"] += 7700\n",
    "  Y_train[\"LATITUDE\"] -= 4864745\n",
    "\n",
    "  return X_train, Y_train"
   ]
  },
  {
   "cell_type": "code",
   "execution_count": 76,
   "metadata": {},
   "outputs": [
    {
     "name": "stdout",
     "output_type": "stream",
     "text": [
      "-7300.818990092725\n",
      "-7691.338399998844\n",
      "4865016.687799998\n",
      "4864745.745015971\n",
      "(19937, 529)\n",
      "(1111, 529)\n"
     ]
    }
   ],
   "source": [
    "training_data = pd.read_csv('TrainingData.csv')\n",
    "test_data = pd.read_csv('ValidationData.csv')\n",
    "print(training_data[\"LONGITUDE\"].max())\n",
    "print(training_data[\"LONGITUDE\"].min())\n",
    "print(training_data[\"LATITUDE\"].max())\n",
    "print(training_data[\"LATITUDE\"].min())\n",
    "print(training_data.shape)\n",
    "print(test_data.shape)"
   ]
  },
  {
   "cell_type": "code",
   "execution_count": null,
   "metadata": {},
   "outputs": [],
   "source": [
    "combined = pd.concat([training_data, test_data], sort = False)\n",
    "X,y = getXY(combined)\n",
    "\n",
    "X_train_loc, X_test_loc, Y_train_loc, Y_test_loc = train_test_split( X, y, test_size=0.2, random_state=42)"
   ]
  },
  {
   "cell_type": "code",
   "execution_count": 13,
   "metadata": {},
   "outputs": [
    {
     "name": "stdout",
     "output_type": "stream",
     "text": [
      "(16838, 520)\n",
      "(16838, 6)\n",
      "(4210, 520)\n",
      "(4210, 6)\n",
      "       WAP079  WAP168  WAP117  WAP221  WAP482  WAP113  WAP345  WAP313  WAP176  \\\n",
      "16667       0       0       0       0       0       0       0       0       0   \n",
      "9792        0       0      24       0       0       0       0       0       0   \n",
      "3753        0       0       0       0       0       0       0       0       0   \n",
      "7270        0       0       0       0       0       0       0       0       0   \n",
      "4046        0       0      39       0       0       0       0       0       0   \n",
      "...       ...     ...     ...     ...     ...     ...     ...     ...     ...   \n",
      "11284       0       0       0       0       0       0       0       0       0   \n",
      "11964       0       0      33       0       0       0       0       0       0   \n",
      "5390        0       0       0       0       0       0       0       0       0   \n",
      "860         0       0       0       0       0       0       0       0       0   \n",
      "15795       0       0       0       0       0       0       0       0       0   \n",
      "\n",
      "       WAP068  ...  WAP251  WAP403  WAP498  WAP493  WAP210  WAP026  WAP059  \\\n",
      "16667       0  ...       0       0       0       0       0      20       0   \n",
      "9792        0  ...       0       0       0       0       0       0       0   \n",
      "3753        0  ...       0       0       0       0       0       0       0   \n",
      "7270        0  ...       0       0       0       0       0       0       0   \n",
      "4046        0  ...       0       0       0       0       0       0       0   \n",
      "...       ...  ...     ...     ...     ...     ...     ...     ...     ...   \n",
      "11284       0  ...       0       0       0       0       0       0       0   \n",
      "11964      12  ...       0       0       0       0       0       0       0   \n",
      "5390       17  ...       0       0       0       0       0       0      42   \n",
      "860         0  ...       0       0       0       0       0       0       0   \n",
      "15795       0  ...       0       0       0       0       0       0       0   \n",
      "\n",
      "       WAP209  WAP133  WAP195  \n",
      "16667       0       0       0  \n",
      "9792        0       0       0  \n",
      "3753        0       0       0  \n",
      "7270        0       0       0  \n",
      "4046        0       0       0  \n",
      "...       ...     ...     ...  \n",
      "11284       0       0       0  \n",
      "11964       0       0       0  \n",
      "5390        0       0       0  \n",
      "860         0       0       0  \n",
      "15795       0       0       0  \n",
      "\n",
      "[16838 rows x 520 columns]\n",
      "        LONGITUDE    LATITUDE  FLOOR  BUILDINGID  SPACEID  RELATIVEPOSITION\n",
      "16667   28.586955  190.925484      1           0      216                 2\n",
      "9792   343.418455   87.749784      2           2      125                 2\n",
      "3753   329.900955   99.804384      1           2      107                 2\n",
      "7270    78.992555  234.268184      2           0      115                 2\n",
      "4046   379.071555   67.969884      1           2      131                 2\n",
      "...           ...         ...    ...         ...      ...               ...\n",
      "11284   86.688355  232.415684      1           0      104                 2\n",
      "11964  380.195355   56.326484      1           2      134                 2\n",
      "5390   291.103055   62.413984      0           2      214                 2\n",
      "860    326.524355   22.142084      3           2      226                 2\n",
      "15795   57.871055  254.875184      0           0      133                 2\n",
      "\n",
      "[16838 rows x 6 columns]\n",
      "       WAP079  WAP168  WAP117  WAP221  WAP482  WAP113  WAP345  WAP313  WAP176  \\\n",
      "16945       0       0       0       0       0       0       0       0       0   \n",
      "868         0       0      10       0       0       0       0       0       0   \n",
      "6836        0       0       0       0       0       0       0       0       0   \n",
      "5865        0       0       0       0       0       0       0       0       0   \n",
      "7628        0       0       0       0       0       0       0       0       0   \n",
      "...       ...     ...     ...     ...     ...     ...     ...     ...     ...   \n",
      "2909        0       0       0       0       0      19       0       0       0   \n",
      "17762       0       0       0       0       0       0       0       0       0   \n",
      "17938       0       0       0       0       0       0       0       0       0   \n",
      "19921       0       0       0       0       0       0       0       0       0   \n",
      "3048        0       0       0       0       0       0       0       0       0   \n",
      "\n",
      "       WAP068  ...  WAP251  WAP403  WAP498  WAP493  WAP210  WAP026  WAP059  \\\n",
      "16945       0  ...       0       0       0       0       0      37       0   \n",
      "868         0  ...       0       0       0       0       0       0       0   \n",
      "6836       19  ...       0       0       0       0       0       0      13   \n",
      "5865       36  ...       0       0       0       0       0       0      55   \n",
      "7628        0  ...       0       0       0       0       0       0       0   \n",
      "...       ...  ...     ...     ...     ...     ...     ...     ...     ...   \n",
      "2909        0  ...       0       0       0       0       0       0       0   \n",
      "17762       0  ...       0       0       0       0       0       0       0   \n",
      "17938       0  ...       0       0       0       0       0       0       0   \n",
      "19921      29  ...       0       0       0       0       0       0      10   \n",
      "3048        0  ...       0       0       0       0       0       0       0   \n",
      "\n",
      "       WAP209  WAP133  WAP195  \n",
      "16945       0       0       0  \n",
      "868         0       0       0  \n",
      "6836        0       0       0  \n",
      "5865        0       0       0  \n",
      "7628        0       0       0  \n",
      "...       ...     ...     ...  \n",
      "2909        0       0       0  \n",
      "17762       0       0       0  \n",
      "17938       0       0       0  \n",
      "19921       0       0       0  \n",
      "3048        0       0       0  \n",
      "\n",
      "[4210 rows x 520 columns]\n",
      "        LONGITUDE    LATITUDE  FLOOR  BUILDINGID  SPACEID  RELATIVEPOSITION\n",
      "16945   34.185655  192.530384      1           0      215                 2\n",
      "868    357.449922   78.979351      1           2        0                 0\n",
      "6836   379.057355   72.532484      0           2      101                 2\n",
      "5865   297.510555   42.293984      0           2      203                 2\n",
      "7628    59.641155  152.540084      1           0      209                 2\n",
      "...           ...         ...    ...         ...      ...               ...\n",
      "2909   314.184055  100.012284      4           2      103                 2\n",
      "17762   54.608955  174.884484      1           0      204                 2\n",
      "17938   12.082855  184.612884      3           0      225                 2\n",
      "19921  358.994455   18.294284      1           2      218                 2\n",
      "3048   329.696355   95.362984      4           2      127                 2\n",
      "\n",
      "[4210 rows x 6 columns]\n"
     ]
    }
   ],
   "source": [
    "print(X_train_loc.shape)\n",
    "print(Y_train_loc.shape)\n",
    "print(X_test_loc.shape)\n",
    "print(Y_test_loc.shape)\n",
    "\n",
    "print(X_train_loc)\n",
    "print(Y_train_loc)\n",
    "print(X_test_loc)\n",
    "print(Y_test_loc)"
   ]
  },
  {
   "cell_type": "code",
   "execution_count": 16,
   "metadata": {},
   "outputs": [],
   "source": [
    "from sklearn.ensemble import RandomForestRegressor\n",
    "\n",
    "y_cols = [\"LONGITUDE\",\"LATITUDE\",\"FLOOR\",\"BUILDINGID\",\"SPACEID\",\"RELATIVEPOSITION\"]\n",
    "models = []\n",
    "for i in range(2):\n",
    "    model = RandomForestRegressor(random_state=1)\n",
    "    model.fit(X_train_loc, Y_train_loc[y_cols[i]])\n",
    "    models.append(model)"
   ]
  },
  {
   "cell_type": "code",
   "execution_count": 18,
   "metadata": {},
   "outputs": [
    {
     "name": "stdout",
     "output_type": "stream",
     "text": [
      "==================== LONGITUDE ===============\n",
      "MAE:  3.0670669854823003\n",
      "Score:  0.9958232644879249\n",
      "==================== LATITUDE ===============\n",
      "MAE:  2.495003954066567\n",
      "Score:  0.9922451701183995\n"
     ]
    }
   ],
   "source": [
    "for i in range(2):    \n",
    "    yhat = models[i].predict(X_test_loc)    \n",
    "    print(\"====================\",y_cols[i],\"===============\")\n",
    "    print(\"MAE: \",sm.mean_absolute_error(Y_test_loc[y_cols[i]], yhat))\n",
    "    print(\"Score: \",sm.r2_score(Y_test_loc[y_cols[i]], yhat))\n",
    "    "
   ]
  },
  {
   "cell_type": "code",
   "execution_count": 19,
   "metadata": {},
   "outputs": [],
   "source": [
    "from sklearn.ensemble import RandomForestClassifier\n",
    "\n",
    "for i in range(2,6):\n",
    "    global models\n",
    "    model = RandomForestClassifier()\n",
    "    model.fit(X_train_loc, Y_train_loc[y_cols[i]])\n",
    "    models.append(model)"
   ]
  },
  {
   "cell_type": "code",
   "execution_count": 20,
   "metadata": {},
   "outputs": [
    {
     "name": "stdout",
     "output_type": "stream",
     "text": [
      "==================== FLOOR ===============\n",
      "              precision    recall  f1-score   support\n",
      "\n",
      "           0       1.00      0.98      0.99       927\n",
      "           1       0.99      1.00      1.00      1121\n",
      "           2       0.99      1.00      1.00       899\n",
      "           3       0.99      1.00      0.99      1028\n",
      "           4       1.00      1.00      1.00       235\n",
      "\n",
      "    accuracy                           0.99      4210\n",
      "   macro avg       0.99      0.99      0.99      4210\n",
      "weighted avg       0.99      0.99      0.99      4210\n",
      "\n",
      " \n",
      "==================== BUILDINGID ===============\n",
      "              precision    recall  f1-score   support\n",
      "\n",
      "           0       1.00      1.00      1.00      1180\n",
      "           1       0.99      1.00      1.00      1090\n",
      "           2       1.00      1.00      1.00      1940\n",
      "\n",
      "    accuracy                           1.00      4210\n",
      "   macro avg       1.00      1.00      1.00      4210\n",
      "weighted avg       1.00      1.00      1.00      4210\n",
      "\n",
      " \n",
      "==================== SPACEID ===============\n",
      "              precision    recall  f1-score   support\n",
      "\n",
      "           0       0.84      0.73      0.78       214\n",
      "           1       0.93      1.00      0.97        14\n",
      "           2       0.94      1.00      0.97        16\n",
      "           3       1.00      0.63      0.77        19\n",
      "           4       0.74      1.00      0.85        14\n",
      "           5       0.91      0.83      0.87        12\n",
      "           6       0.87      0.87      0.87        15\n",
      "           7       0.80      1.00      0.89         4\n",
      "           8       0.70      0.64      0.67        11\n",
      "           9       0.82      1.00      0.90        14\n",
      "          10       0.81      0.93      0.87        14\n",
      "          11       0.75      1.00      0.86         3\n",
      "          12       0.50      0.33      0.40         3\n",
      "          13       0.36      0.80      0.50         5\n",
      "          15       1.00      1.00      1.00        10\n",
      "          16       1.00      0.56      0.71         9\n",
      "          17       1.00      1.00      1.00         5\n",
      "          18       1.00      1.00      1.00         6\n",
      "          25       0.00      0.00      0.00         2\n",
      "          26       1.00      0.75      0.86         4\n",
      "          27       1.00      0.33      0.50         3\n",
      "          28       1.00      1.00      1.00         3\n",
      "          29       0.67      1.00      0.80         2\n",
      "          30       0.40      0.40      0.40         5\n",
      "         101       0.82      0.82      0.82        87\n",
      "         102       0.87      0.81      0.84        96\n",
      "         103       0.90      0.83      0.86        96\n",
      "         104       0.95      0.84      0.90        96\n",
      "         105       0.86      0.85      0.85        78\n",
      "         106       0.83      0.91      0.87        93\n",
      "         107       0.88      0.89      0.88        97\n",
      "         108       0.94      0.94      0.94        81\n",
      "         109       0.40      0.84      0.54        50\n",
      "         110       0.81      0.93      0.86        67\n",
      "         111       0.91      0.83      0.87        71\n",
      "         112       0.87      0.88      0.88        60\n",
      "         113       0.90      0.90      0.90        51\n",
      "         114       0.90      0.75      0.82        48\n",
      "         115       0.88      0.85      0.86        41\n",
      "         116       0.88      0.77      0.82        39\n",
      "         117       0.88      0.75      0.81        48\n",
      "         118       0.88      0.85      0.87        54\n",
      "         119       0.89      0.76      0.82        45\n",
      "         120       0.95      0.85      0.89        65\n",
      "         121       0.83      0.77      0.80        56\n",
      "         122       0.88      0.85      0.87        62\n",
      "         123       0.86      0.81      0.83        31\n",
      "         124       0.89      0.75      0.81        72\n",
      "         125       0.84      0.68      0.75        56\n",
      "         126       0.92      0.85      0.88        52\n",
      "         127       0.87      0.83      0.85        47\n",
      "         128       0.81      0.79      0.80        53\n",
      "         129       0.89      0.88      0.88        56\n",
      "         130       0.92      0.81      0.86        42\n",
      "         131       0.88      0.88      0.88        34\n",
      "         132       0.85      0.81      0.83        43\n",
      "         133       0.83      0.86      0.85        51\n",
      "         134       0.91      0.85      0.88        46\n",
      "         135       0.93      0.82      0.87        34\n",
      "         136       0.51      0.90      0.65        39\n",
      "         137       0.79      0.79      0.79        24\n",
      "         138       0.88      0.76      0.82        38\n",
      "         139       0.84      0.97      0.90        37\n",
      "         140       0.88      0.96      0.92        53\n",
      "         141       0.92      0.92      0.92        12\n",
      "         142       1.00      1.00      1.00         5\n",
      "         143       0.82      0.96      0.88        24\n",
      "         144       1.00      1.00      1.00         6\n",
      "         146       0.00      0.00      0.00         1\n",
      "         147       1.00      0.33      0.50         3\n",
      "         201       0.86      0.92      0.89        78\n",
      "         202       0.94      0.95      0.95       100\n",
      "         203       0.92      0.99      0.95        70\n",
      "         204       0.91      0.87      0.89        45\n",
      "         205       0.86      0.91      0.89        34\n",
      "         206       0.94      0.89      0.91        53\n",
      "         207       0.89      0.89      0.89        55\n",
      "         208       0.89      0.94      0.91        50\n",
      "         209       0.90      0.93      0.91        40\n",
      "         210       0.90      0.82      0.86        33\n",
      "         211       0.87      0.92      0.89        36\n",
      "         212       0.83      0.83      0.83        36\n",
      "         213       0.72      0.76      0.74        17\n",
      "         214       0.60      0.82      0.70        39\n",
      "         215       0.89      0.86      0.87        36\n",
      "         216       0.86      0.76      0.81        55\n",
      "         217       0.83      0.96      0.89        46\n",
      "         218       0.82      0.92      0.87        39\n",
      "         219       0.89      0.71      0.79        35\n",
      "         220       0.86      0.89      0.87        27\n",
      "         221       0.89      0.84      0.86        19\n",
      "         222       0.85      0.77      0.81        30\n",
      "         223       0.90      0.87      0.88        30\n",
      "         224       0.87      0.85      0.86        40\n",
      "         225       0.72      0.75      0.73        24\n",
      "         226       0.80      0.95      0.87        21\n",
      "         227       0.64      0.69      0.67        26\n",
      "         228       0.87      0.72      0.79        18\n",
      "         229       0.82      0.78      0.80        23\n",
      "         230       0.93      0.87      0.90        30\n",
      "         231       0.94      0.84      0.89        19\n",
      "         232       0.80      0.80      0.80        10\n",
      "         233       0.67      0.89      0.76         9\n",
      "         234       0.81      0.91      0.86        23\n",
      "         235       0.87      0.87      0.87        30\n",
      "         236       0.59      0.77      0.67        13\n",
      "         237       0.78      0.74      0.76        19\n",
      "         238       0.73      0.79      0.76        14\n",
      "         239       0.83      0.71      0.77         7\n",
      "         240       1.00      1.00      1.00         4\n",
      "         241       0.94      1.00      0.97        15\n",
      "         242       1.00      1.00      1.00        13\n",
      "         243       0.64      0.88      0.74         8\n",
      "         244       1.00      0.89      0.94        19\n",
      "         245       0.75      0.86      0.80         7\n",
      "         246       1.00      0.80      0.89        10\n",
      "         247       1.00      1.00      1.00        24\n",
      "         248       0.95      1.00      0.98        21\n",
      "         249       0.43      0.50      0.46         6\n",
      "         250       1.00      1.00      1.00         2\n",
      "         253       1.00      1.00      1.00         3\n",
      "         254       1.00      1.00      1.00         2\n",
      "\n",
      "    accuracy                           0.85      4210\n",
      "   macro avg       0.84      0.83      0.83      4210\n",
      "weighted avg       0.86      0.85      0.85      4210\n",
      "\n",
      " \n",
      "==================== RELATIVEPOSITION ===============\n",
      "              precision    recall  f1-score   support\n",
      "\n",
      "           0       1.00      0.54      0.70       214\n",
      "           1       0.95      0.86      0.90       661\n",
      "           2       0.95      0.99      0.97      3335\n",
      "\n",
      "    accuracy                           0.95      4210\n",
      "   macro avg       0.97      0.80      0.86      4210\n",
      "weighted avg       0.95      0.95      0.94      4210\n",
      "\n",
      " \n"
     ]
    }
   ],
   "source": [
    "for i in range(2,6):\n",
    "    yhat = models[i].predict(X_test_loc)\n",
    "    print(\"====================\",y_cols[i],\"===============\")  \n",
    "    print(sm.classification_report(Y_test_loc[y_cols[i]], yhat))\n",
    "    print(\" \")    "
   ]
  },
  {
   "cell_type": "code",
   "execution_count": 21,
   "metadata": {},
   "outputs": [],
   "source": [
    "# Save models\n",
    "\n",
    "import pickle\n",
    "\n",
    "for i in range(len(y_cols)):\n",
    "    pickle.dump(models[i], open(y_cols[i]+str('.sav'), 'wb'))"
   ]
  },
  {
   "cell_type": "code",
   "execution_count": 22,
   "metadata": {},
   "outputs": [],
   "source": [
    "### ============ MERGE TEST DATA ============= ###"
   ]
  },
  {
   "cell_type": "code",
   "execution_count": 42,
   "metadata": {},
   "outputs": [
    {
     "name": "stdout",
     "output_type": "stream",
     "text": [
      "2060\n"
     ]
    }
   ],
   "source": [
    "n = min(y_test_act.shape[0], Y_test_loc.shape[0])\n",
    "print(n)"
   ]
  },
  {
   "cell_type": "code",
   "execution_count": 70,
   "metadata": {},
   "outputs": [
    {
     "name": "stdout",
     "output_type": "stream",
     "text": [
      "(2060, 1088)\n"
     ]
    }
   ],
   "source": [
    "X_test_act.reset_index(inplace=True,drop=True)\n",
    "y_test_act.reset_index(inplace=True,drop=True)\n",
    "X_test_loc.reset_index(inplace=True,drop=True)\n",
    "Y_test_loc.reset_index(inplace=True,drop=True)\n",
    "\n",
    "merged = pd.concat([X_test_act.iloc[:n,:] , y_test_act.iloc[:n]] ,axis = 1)\n",
    "merged = pd.concat([merged, X_test_loc.iloc[:n,:]] ,axis = 1)\n",
    "merged = pd.concat([merged,Y_test_loc.iloc[:n,:]] , axis = 1)\n",
    "\n",
    "print(merged.shape)"
   ]
  },
  {
   "cell_type": "code",
   "execution_count": 71,
   "metadata": {},
   "outputs": [],
   "source": [
    "merged.to_csv(\"merged1.csv\")"
   ]
  },
  {
   "cell_type": "code",
   "execution_count": null,
   "metadata": {},
   "outputs": [],
   "source": []
  },
  {
   "cell_type": "code",
   "execution_count": null,
   "metadata": {},
   "outputs": [],
   "source": []
  },
  {
   "cell_type": "code",
   "execution_count": null,
   "metadata": {},
   "outputs": [],
   "source": []
  }
 ],
 "metadata": {
  "kernelspec": {
   "display_name": "Python 3",
   "language": "python",
   "name": "python3"
  },
  "language_info": {
   "codemirror_mode": {
    "name": "ipython",
    "version": 3
   },
   "file_extension": ".py",
   "mimetype": "text/x-python",
   "name": "python",
   "nbconvert_exporter": "python",
   "pygments_lexer": "ipython3",
   "version": "3.7.3"
  }
 },
 "nbformat": 4,
 "nbformat_minor": 4
}
